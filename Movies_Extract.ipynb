{
 "cells": [
  {
   "cell_type": "code",
   "execution_count": 6,
   "id": "2723e4b1",
   "metadata": {},
   "outputs": [],
   "source": [
    "import pandas as pd"
   ]
  },
  {
   "cell_type": "code",
   "execution_count": 7,
   "id": "aab4fc92",
   "metadata": {},
   "outputs": [],
   "source": [
    "movies_metadata = pd.read_csv('movies_metadata.csv', low_memory = False)\n",
    "ratings = pd.read_csv('ratings.csv')"
   ]
  },
  {
   "cell_type": "code",
   "execution_count": 11,
   "id": "8bab6bcf",
   "metadata": {
    "scrolled": true
   },
   "outputs": [
    {
     "data": {
      "text/html": [
       "<div>\n",
       "<style scoped>\n",
       "    .dataframe tbody tr th:only-of-type {\n",
       "        vertical-align: middle;\n",
       "    }\n",
       "\n",
       "    .dataframe tbody tr th {\n",
       "        vertical-align: top;\n",
       "    }\n",
       "\n",
       "    .dataframe thead th {\n",
       "        text-align: right;\n",
       "    }\n",
       "</style>\n",
       "<table border=\"1\" class=\"dataframe\">\n",
       "  <thead>\n",
       "    <tr style=\"text-align: right;\">\n",
       "      <th></th>\n",
       "      <th>adult</th>\n",
       "      <th>belongs_to_collection</th>\n",
       "      <th>budget</th>\n",
       "      <th>genres</th>\n",
       "      <th>homepage</th>\n",
       "      <th>id</th>\n",
       "      <th>imdb_id</th>\n",
       "      <th>original_language</th>\n",
       "      <th>original_title</th>\n",
       "      <th>overview</th>\n",
       "      <th>...</th>\n",
       "      <th>release_date</th>\n",
       "      <th>revenue</th>\n",
       "      <th>runtime</th>\n",
       "      <th>spoken_languages</th>\n",
       "      <th>status</th>\n",
       "      <th>tagline</th>\n",
       "      <th>title</th>\n",
       "      <th>video</th>\n",
       "      <th>vote_average</th>\n",
       "      <th>vote_count</th>\n",
       "    </tr>\n",
       "  </thead>\n",
       "  <tbody>\n",
       "    <tr>\n",
       "      <th>27653</th>\n",
       "      <td>False</td>\n",
       "      <td>NaN</td>\n",
       "      <td>4600000</td>\n",
       "      <td>[{'id': 18, 'name': 'Drama'}]</td>\n",
       "      <td>https://www.facebook.com/Miraculumlefilm</td>\n",
       "      <td>248231</td>\n",
       "      <td>tt2717528</td>\n",
       "      <td>fr</td>\n",
       "      <td>Miraculum</td>\n",
       "      <td>Sometimes, we're just waiting for a miracle. A...</td>\n",
       "      <td>...</td>\n",
       "      <td>2014-02-28</td>\n",
       "      <td>0.0</td>\n",
       "      <td>104.0</td>\n",
       "      <td>[{'iso_639_1': 'fr', 'name': 'Français'}]</td>\n",
       "      <td>Released</td>\n",
       "      <td>NaN</td>\n",
       "      <td>Miraculum</td>\n",
       "      <td>False</td>\n",
       "      <td>5.3</td>\n",
       "      <td>11.0</td>\n",
       "    </tr>\n",
       "  </tbody>\n",
       "</table>\n",
       "<p>1 rows × 24 columns</p>\n",
       "</div>"
      ],
      "text/plain": [
       "       adult belongs_to_collection   budget                         genres  \\\n",
       "27653  False                   NaN  4600000  [{'id': 18, 'name': 'Drama'}]   \n",
       "\n",
       "                                       homepage      id    imdb_id  \\\n",
       "27653  https://www.facebook.com/Miraculumlefilm  248231  tt2717528   \n",
       "\n",
       "      original_language original_title  \\\n",
       "27653                fr      Miraculum   \n",
       "\n",
       "                                                overview  ... release_date  \\\n",
       "27653  Sometimes, we're just waiting for a miracle. A...  ...   2014-02-28   \n",
       "\n",
       "      revenue runtime                           spoken_languages    status  \\\n",
       "27653     0.0   104.0  [{'iso_639_1': 'fr', 'name': 'Français'}]  Released   \n",
       "\n",
       "       tagline      title  video vote_average vote_count  \n",
       "27653      NaN  Miraculum  False          5.3       11.0  \n",
       "\n",
       "[1 rows x 24 columns]"
      ]
     },
     "execution_count": 11,
     "metadata": {},
     "output_type": "execute_result"
    }
   ],
   "source": [
    "movies_metadata.sample()"
   ]
  },
  {
   "cell_type": "code",
   "execution_count": null,
   "id": "3565e796",
   "metadata": {},
   "outputs": [],
   "source": []
  },
  {
   "cell_type": "code",
   "execution_count": null,
   "id": "45dda250",
   "metadata": {},
   "outputs": [],
   "source": []
  }
 ],
 "metadata": {
  "kernelspec": {
   "display_name": "Python 3",
   "language": "python",
   "name": "python3"
  },
  "language_info": {
   "codemirror_mode": {
    "name": "ipython",
    "version": 3
   },
   "file_extension": ".py",
   "mimetype": "text/x-python",
   "name": "python",
   "nbconvert_exporter": "python",
   "pygments_lexer": "ipython3",
   "version": "3.7.10"
  }
 },
 "nbformat": 4,
 "nbformat_minor": 5
}
